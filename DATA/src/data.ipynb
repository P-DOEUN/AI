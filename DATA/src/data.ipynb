{
 "cells": [
  {
   "cell_type": "code",
   "execution_count": 1,
   "metadata": {},
   "outputs": [],
   "source": [
    "import pandas as pd"
   ]
  },
  {
   "cell_type": "code",
   "execution_count": 4,
   "metadata": {},
   "outputs": [
    {
     "data": {
      "text/html": [
       "<div>\n",
       "<style scoped>\n",
       "    .dataframe tbody tr th:only-of-type {\n",
       "        vertical-align: middle;\n",
       "    }\n",
       "\n",
       "    .dataframe tbody tr th {\n",
       "        vertical-align: top;\n",
       "    }\n",
       "\n",
       "    .dataframe thead th {\n",
       "        text-align: right;\n",
       "    }\n",
       "</style>\n",
       "<table border=\"1\" class=\"dataframe\">\n",
       "  <thead>\n",
       "    <tr style=\"text-align: right;\">\n",
       "      <th></th>\n",
       "      <th>Log_Number</th>\n",
       "      <th>payload</th>\n",
       "      <th>label_action</th>\n",
       "    </tr>\n",
       "  </thead>\n",
       "  <tbody>\n",
       "    <tr>\n",
       "      <th>0</th>\n",
       "      <td>0</td>\n",
       "      <td>GET /forum1_professionnel.asp?n=/.\\\\\\\"./.\\\\\\\"....</td>\n",
       "      <td>System_Cmd_Execution</td>\n",
       "    </tr>\n",
       "    <tr>\n",
       "      <th>1</th>\n",
       "      <td>1</td>\n",
       "      <td>POST /owa/auth/logon.aspx?replaceCurrent=1%22%...</td>\n",
       "      <td>System_Cmd_Execution</td>\n",
       "    </tr>\n",
       "    <tr>\n",
       "      <th>2</th>\n",
       "      <td>2</td>\n",
       "      <td>GET /goods/goods_search?display_type=list&amp;arr_...</td>\n",
       "      <td>SQL_Injection</td>\n",
       "    </tr>\n",
       "    <tr>\n",
       "      <th>3</th>\n",
       "      <td>3</td>\n",
       "      <td>GET / HTTP/1.1\\r\\n\\r\\n</td>\n",
       "      <td>HOST_Scan</td>\n",
       "    </tr>\n",
       "    <tr>\n",
       "      <th>4</th>\n",
       "      <td>4</td>\n",
       "      <td>GET /sub_04_1_read.php?page=1&amp;id=31%29%3BSELEC...</td>\n",
       "      <td>System_Cmd_Execution</td>\n",
       "    </tr>\n",
       "    <tr>\n",
       "      <th>...</th>\n",
       "      <td>...</td>\n",
       "      <td>...</td>\n",
       "      <td>...</td>\n",
       "    </tr>\n",
       "    <tr>\n",
       "      <th>44995</th>\n",
       "      <td>44995</td>\n",
       "      <td>GET /app/javascript/js/skin-responsive.js?v=%3...</td>\n",
       "      <td>System_Cmd_Execution</td>\n",
       "    </tr>\n",
       "    <tr>\n",
       "      <th>44996</th>\n",
       "      <td>44996</td>\n",
       "      <td>GET /board/?category=type+%25SYSTEMROOT%25%5Cw...</td>\n",
       "      <td>System_Cmd_Execution</td>\n",
       "    </tr>\n",
       "    <tr>\n",
       "      <th>44997</th>\n",
       "      <td>44997</td>\n",
       "      <td>POST /sub_02_4.php HTTP/1.1\\r\\nContent-Length:...</td>\n",
       "      <td>SQL_Injection</td>\n",
       "    </tr>\n",
       "    <tr>\n",
       "      <th>44998</th>\n",
       "      <td>44998</td>\n",
       "      <td>GET /admin/myadmin HTTP/1.1\\r\\nHost: lab.colle...</td>\n",
       "      <td>Path_Disclosure</td>\n",
       "    </tr>\n",
       "    <tr>\n",
       "      <th>44999</th>\n",
       "      <td>44999</td>\n",
       "      <td>GET /goods/goods_search?display_type=list&amp;arr_...</td>\n",
       "      <td>Vulnerability_Scan</td>\n",
       "    </tr>\n",
       "  </tbody>\n",
       "</table>\n",
       "<p>45000 rows × 3 columns</p>\n",
       "</div>"
      ],
      "text/plain": [
       "       Log_Number                                            payload  \\\n",
       "0               0  GET /forum1_professionnel.asp?n=/.\\\\\\\"./.\\\\\\\"....   \n",
       "1               1  POST /owa/auth/logon.aspx?replaceCurrent=1%22%...   \n",
       "2               2  GET /goods/goods_search?display_type=list&arr_...   \n",
       "3               3                             GET / HTTP/1.1\\r\\n\\r\\n   \n",
       "4               4  GET /sub_04_1_read.php?page=1&id=31%29%3BSELEC...   \n",
       "...           ...                                                ...   \n",
       "44995       44995  GET /app/javascript/js/skin-responsive.js?v=%3...   \n",
       "44996       44996  GET /board/?category=type+%25SYSTEMROOT%25%5Cw...   \n",
       "44997       44997  POST /sub_02_4.php HTTP/1.1\\r\\nContent-Length:...   \n",
       "44998       44998  GET /admin/myadmin HTTP/1.1\\r\\nHost: lab.colle...   \n",
       "44999       44999  GET /goods/goods_search?display_type=list&arr_...   \n",
       "\n",
       "               label_action  \n",
       "0      System_Cmd_Execution  \n",
       "1      System_Cmd_Execution  \n",
       "2             SQL_Injection  \n",
       "3                 HOST_Scan  \n",
       "4      System_Cmd_Execution  \n",
       "...                     ...  \n",
       "44995  System_Cmd_Execution  \n",
       "44996  System_Cmd_Execution  \n",
       "44997         SQL_Injection  \n",
       "44998       Path_Disclosure  \n",
       "44999    Vulnerability_Scan  \n",
       "\n",
       "[45000 rows x 3 columns]"
      ]
     },
     "execution_count": 4,
     "metadata": {},
     "output_type": "execute_result"
    }
   ],
   "source": [
    "data = pd.read_csv('A Track 학습셋.csv')\n",
    "data"
   ]
  },
  {
   "cell_type": "code",
   "execution_count": 6,
   "metadata": {},
   "outputs": [
    {
     "data": {
      "text/plain": [
       "label_action\n",
       "Vulnerability_Scan               16867\n",
       "System_Cmd_Execution              9807\n",
       "HOST_Scan                         6315\n",
       "Path_Disclosure                   4775\n",
       "SQL_Injection                     3395\n",
       "Cross_Site_Scripting              1348\n",
       "Automatically_Searching_Infor     1119\n",
       "Leakage_Through_NW                 956\n",
       "Directory_Indexing                 418\n",
       "Name: count, dtype: int64"
      ]
     },
     "execution_count": 6,
     "metadata": {},
     "output_type": "execute_result"
    }
   ],
   "source": [
    "data['label_action'].value_counts()"
   ]
  },
  {
   "cell_type": "code",
   "execution_count": 7,
   "metadata": {},
   "outputs": [
    {
     "name": "stdout",
     "output_type": "stream",
     "text": [
      "<class 'pandas.core.frame.DataFrame'>\n",
      "RangeIndex: 45000 entries, 0 to 44999\n",
      "Data columns (total 3 columns):\n",
      " #   Column        Non-Null Count  Dtype \n",
      "---  ------        --------------  ----- \n",
      " 0   Log_Number    45000 non-null  int64 \n",
      " 1   payload       45000 non-null  object\n",
      " 2   label_action  45000 non-null  object\n",
      "dtypes: int64(1), object(2)\n",
      "memory usage: 1.0+ MB\n"
     ]
    }
   ],
   "source": [
    "data.info()"
   ]
  },
  {
   "cell_type": "code",
   "execution_count": null,
   "metadata": {},
   "outputs": [],
   "source": []
  }
 ],
 "metadata": {
  "kernelspec": {
   "display_name": "Python 3",
   "language": "python",
   "name": "python3"
  },
  "language_info": {
   "codemirror_mode": {
    "name": "ipython",
    "version": 3
   },
   "file_extension": ".py",
   "mimetype": "text/x-python",
   "name": "python",
   "nbconvert_exporter": "python",
   "pygments_lexer": "ipython3",
   "version": "3.11.5"
  }
 },
 "nbformat": 4,
 "nbformat_minor": 2
}
